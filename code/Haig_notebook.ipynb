{
 "cells": [
  {
   "cell_type": "markdown",
   "metadata": {},
   "source": [
    "Import libs"
   ]
  },
  {
   "cell_type": "code",
   "execution_count": 60,
   "metadata": {
    "collapsed": false
   },
   "outputs": [],
   "source": [
    "import numpy as np\n",
    "import pandas as pd\n",
    "import datetime\n",
    "import time\n",
    "\n",
    "from collections import OrderedDict\n",
    "from bokeh._legacy_charts import Bar, output_notebook, show\n",
    "from bokeh.plotting import output_server, cursession\n",
    "from IPython.display import Image\n",
    "\n",
    "from random import randint"
   ]
  },
  {
   "cell_type": "markdown",
   "metadata": {},
   "source": [
    "To display Bokeh plot in notebook"
   ]
  },
  {
   "cell_type": "code",
   "execution_count": 61,
   "metadata": {
    "collapsed": false
   },
   "outputs": [
    {
     "name": "stdout",
     "output_type": "stream",
     "text": [
      "Using saved session configuration for http://localhost:5006/\n",
      "To override, pass 'load_from_config=False' to Session\n"
     ]
    }
   ],
   "source": [
    "output_server(\"Stacked Test\")"
   ]
  },
  {
   "cell_type": "markdown",
   "metadata": {},
   "source": [
    "Create some fake data to start\n",
    "Fake data for the time data:"
   ]
  },
  {
   "cell_type": "code",
   "execution_count": 62,
   "metadata": {
    "collapsed": false
   },
   "outputs": [
    {
     "data": {
      "text/html": [
       "<script\n",
       "    src=\"http://localhost:5006/bokeh/autoload.js/34b5fcb7-dd98-45ce-ac10-7157ae8154dc\"\n",
       "    id=\"34b5fcb7-dd98-45ce-ac10-7157ae8154dc\"\n",
       "    async=\"true\"\n",
       "    data-bokeh-data=\"server\"\n",
       "    data-bokeh-modelid=\"a9b78aaf-6620-4418-958a-d67a146e5f55\"\n",
       "    data-bokeh-root-url=\"http://localhost:5006/\"\n",
       "    data-bokeh-docid=\"e205bfd4-d223-407d-a9d0-f91a5fca8483\"\n",
       "    \n",
       "    data-bokeh-docapikey=\"82544131-caf5-466f-8b3f-be944cc8e9ec\"\n",
       "    \n",
       "    data-bokeh-loglevel=\"info\"\n",
       "></script>"
      ]
     },
     "metadata": {},
     "output_type": "display_data"
    },
    {
     "name": "stdout",
     "output_type": "stream",
     "text": [
      "[]\n"
     ]
    },
    {
     "ename": "IndexError",
     "evalue": "list index out of range",
     "output_type": "error",
     "traceback": [
      "\u001b[0;31m---------------------------------------------------------------------------\u001b[0m",
      "\u001b[0;31mIndexError\u001b[0m                                Traceback (most recent call last)",
      "\u001b[0;32m<ipython-input-62-fca4ea63d2e6>\u001b[0m in \u001b[0;36m<module>\u001b[0;34m()\u001b[0m\n\u001b[1;32m     26\u001b[0m     \u001b[0mrenderer\u001b[0m \u001b[0;34m=\u001b[0m \u001b[0mplot\u001b[0m\u001b[0;34m.\u001b[0m\u001b[0mselect\u001b[0m\u001b[0;34m(\u001b[0m\u001b[0mdict\u001b[0m\u001b[0;34m(\u001b[0m\u001b[0mfilename\u001b[0m\u001b[0;34m=\u001b[0m\u001b[0;34m'StackedBar'\u001b[0m\u001b[0;34m)\u001b[0m\u001b[0;34m)\u001b[0m\u001b[0;34m\u001b[0m\u001b[0m\n\u001b[1;32m     27\u001b[0m     \u001b[0;32mprint\u001b[0m \u001b[0mrenderer\u001b[0m\u001b[0;34m\u001b[0m\u001b[0m\n\u001b[0;32m---> 28\u001b[0;31m     \u001b[0mds\u001b[0m\u001b[0;34m=\u001b[0m\u001b[0mrenderer\u001b[0m\u001b[0;34m[\u001b[0m\u001b[0;36m0\u001b[0m\u001b[0;34m]\u001b[0m\u001b[0;34m.\u001b[0m\u001b[0mdata_source\u001b[0m\u001b[0;34m\u001b[0m\u001b[0m\n\u001b[0m\u001b[1;32m     29\u001b[0m     \u001b[0mcursession\u001b[0m\u001b[0;34m(\u001b[0m\u001b[0;34m)\u001b[0m\u001b[0;34m.\u001b[0m\u001b[0mstore_objects\u001b[0m\u001b[0;34m(\u001b[0m\u001b[0mds\u001b[0m\u001b[0;34m)\u001b[0m\u001b[0;34m\u001b[0m\u001b[0m\n\u001b[1;32m     30\u001b[0m     \u001b[0;31m#show(plot)\u001b[0m\u001b[0;34m\u001b[0m\u001b[0;34m\u001b[0m\u001b[0m\n",
      "\u001b[0;31mIndexError\u001b[0m: list index out of range"
     ]
    }
   ],
   "source": [
    "a = datetime.datetime.today()\n",
    "numTimes = 25\n",
    "dateList = []\n",
    "times = []\n",
    "cloudElementCount = []\n",
    "cloudElementAccept = []\n",
    "cloudElementReject = []\n",
    "dictionary = OrderedDict(Total=cloudElementCount,Accepted=cloudElementAccept,Rejected=cloudElementReject)\n",
    "plot = Bar(dictionary, times,title=title, stacked=True, legend='top_right')\n",
    "show(plot)\n",
    "for x in range (0, numTimes):\n",
    "    dateList.append(a - datetime.timedelta(hours = x))\n",
    "\n",
    "#convert datetimes to list\n",
    "for eachtime in dateList:\n",
    "    #we're creating a new piece of \"data\" \n",
    "    times.append(eachtime.strftime('%H%M'))\n",
    "    cloudElementCount.append(randint(1,100))\n",
    "    cloudElementAccept.append(randint(1,100))\n",
    "    cloudElementReject.append(randint(1,100))\n",
    "    #check to see what the data now looks like\n",
    "    #print dictionary\n",
    "    #print '\\n'\n",
    "    #title = 'Cloud Elements'\n",
    "    plot = Bar(dictionary, times,title=title, stacked=True, legend='top_right', filename='StackedBar')\n",
    "    renderer = plot.select(dict(filename='StackedBar'))\n",
    "    print renderer\n",
    "    ds=renderer[0].data_source\n",
    "    cursession().store_objects(ds)\n",
    "    #show(plot)\n",
    "    time.sleep(1)\n",
    "    #generate new data in here, update the chart now running on a server\n",
    "#print dateList, times"
   ]
  },
  {
   "cell_type": "markdown",
   "metadata": {},
   "source": [
    "Fake data for the cloud elements counters:"
   ]
  },
  {
   "cell_type": "code",
   "execution_count": null,
   "metadata": {
    "collapsed": false
   },
   "outputs": [],
   "source": [
    "#cloudElementCount = np.random.randint(1.,100.,numTimes).astype(float) \n",
    "#cloudElementAccept = np.random.randint(1.,100.,numTimes).astype(float)\n",
    "#cloudElementReject = np.random.randint(1.,100.,numTimes).astype(float)\n",
    "\n",
    "print cloudElementCount, cloudElementAccept, cloudElementReject"
   ]
  },
  {
   "cell_type": "markdown",
   "metadata": {},
   "source": [
    "Create the dictionary needed for input into Bokeh:"
   ]
  },
  {
   "cell_type": "code",
   "execution_count": null,
   "metadata": {
    "collapsed": false
   },
   "outputs": [],
   "source": [
    "#write code here to create the dictionary needed for input into Bokeh\n",
    "#dictionary = OrderedDict(Total=cloudElementCount,Accepted=cloudElementAccept,Rejected=cloudElementReject)\n",
    "    \n",
    "print dictionary"
   ]
  },
  {
   "cell_type": "markdown",
   "metadata": {},
   "source": [
    "Plot the stacked barchart"
   ]
  },
  {
   "cell_type": "code",
   "execution_count": null,
   "metadata": {
    "collapsed": false
   },
   "outputs": [],
   "source": [
    "title = 'Cloud Elements'\n",
    "plot = Bar(dictionary, times,title=title, stacked=True, legend='top_right')"
   ]
  },
  {
   "cell_type": "markdown",
   "metadata": {
    "collapsed": false
   },
   "source": [
    "Show the plot"
   ]
  },
  {
   "cell_type": "code",
   "execution_count": null,
   "metadata": {
    "collapsed": false
   },
   "outputs": [],
   "source": [
    "#write the line of code to show the plot here\n",
    "show(plot)"
   ]
  }
 ],
 "metadata": {
  "kernelspec": {
   "display_name": "Python 2",
   "language": "python",
   "name": "python2"
  },
  "language_info": {
   "codemirror_mode": {
    "name": "ipython",
    "version": 2
   },
   "file_extension": ".py",
   "mimetype": "text/x-python",
   "name": "python",
   "nbconvert_exporter": "python",
   "pygments_lexer": "ipython2",
   "version": "2.7.10"
  }
 },
 "nbformat": 4,
 "nbformat_minor": 0
}
